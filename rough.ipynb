{
 "cells": [
  {
   "cell_type": "code",
   "execution_count": 1,
   "metadata": {},
   "outputs": [
    {
     "name": "stderr",
     "output_type": "stream",
     "text": [
      "/tmp/ipykernel_88600/1313745973.py:14: MatplotlibDeprecationWarning: The seaborn styles shipped by Matplotlib are deprecated since 3.6, as they no longer correspond to the styles shipped by seaborn. However, they will remain available as 'seaborn-v0_8-<style>'. Alternatively, directly use the seaborn API instead.\n",
      "  plt.style.use(\"seaborn\")\n"
     ]
    }
   ],
   "source": [
    "#imports\n",
    "import numpy as np\n",
    "import scipy\n",
    "from scipy.stats import norm, multivariate_normal\n",
    "\n",
    "import urllib.request\n",
    "\n",
    "from PIL import Image\n",
    "\n",
    "import matplotlib.pyplot as plt \n",
    "import plotly\n",
    "import plotly.graph_objects as go\n",
    "from plotly.subplots import make_subplots\n",
    "plt.style.use(\"seaborn\")\n",
    "seed=192022\n",
    "np.random.seed(seed)"
   ]
  },
  {
   "cell_type": "code",
   "execution_count": null,
   "metadata": {},
   "outputs": [],
   "source": [
    "#Improved Forward Process\n",
    "\n",
    "def forward_improved_DDPM(original_img, alpha_bar, t):\n",
    "    \"\"\"Improved Forward Diffusion Process\n",
    "    Args:\n",
    "        original_img : Image at time-step zero (t = 0)\n",
    "        alpha_bar    : The reparameterized version of beta\n",
    "        t            : Current timestep \n",
    "    \n",
    "    Returns:\n",
    "        Image obtained at current time-step.\n",
    "    \"\"\"\n",
    "\n",
    "    alpha_bar_t = alpha_bar[t].reshape(-1, 1, 1) # beta_t\n",
    "    mu = np.sqrt(alpha_bar_t) * original_img     # mean\n",
    "    sigma = np.sqrt(1.0 - alpha_bar_t)           # variance\n",
    "\n",
    "    img_t = mu + sigma * np.random.randn(*original_img.shape)\n",
    "    return img_t\n",
    "\n",
    "    \n",
    "urllib.request.urlretrieve(\n",
    "  'https://upload.wikimedia.org/wikipedia/commons/e/ea/Dog_coat_variation.png',\n",
    "   \"Dog_coat_variation.png\")\n",
    "  \n",
    "img = Image.open(\"Dog_coat_variation.png\")\n",
    "\n",
    "IMG_SIZE = (128, 128)\n",
    "\n",
    "img = img.resize(size=IMG_SIZE)\n",
    "\n",
    "timesteps = 100\n",
    "beta_start = 0.0001\n",
    "beta_end = 0.05\n",
    "beta = np.linspace(beta_start, beta_end, num=timesteps, dtype=np.float32)\n",
    "\n",
    "alpha = 1.0 - beta           \n",
    "alpha_bar = np.cumprod(alpha)\n",
    "\n",
    "processed_img = [img] # image at time-step `zero`\n",
    "\n",
    "original_img = np.asarray(img.copy(), dtype=np.float32) / 255. \n",
    "\n",
    "specific_timestep = [20, 40, 60, 80, 99]\n",
    "\n",
    "for step in specific_timestep:\n",
    "    img_t = forward_improved_DDPM(original_img, alpha_bar, step)\n",
    "    img_t = (img_t.clip(0,1) * 255.0).astype(np.uint8)\n",
    "    processed_img.append(img_t)\n",
    "\n",
    "\n",
    "# Plot\n",
    "_, ax = plt.subplots(1 , len(processed_img), figsize=(15,5))\n",
    "for i, sample in enumerate(processed_img):\n",
    "    ax[i].imshow(sample)\n",
    "    ax[i].set_title(f\"Timestep: {i*20}\")\n",
    "    ax[i].axis(\"off\")\n",
    "    ax[i].grid(False)\n",
    "plt.suptitle(\"Efficient Forward process in DDPMs\", y=0.85)\n",
    "plt.axis(\"off\")\n",
    "plt.tight_layout()"
   ]
  }
 ],
 "metadata": {
  "kernelspec": {
   "display_name": "Python 3.9.13 ('torch')",
   "language": "python",
   "name": "python3"
  },
  "language_info": {
   "codemirror_mode": {
    "name": "ipython",
    "version": 3
   },
   "file_extension": ".py",
   "mimetype": "text/x-python",
   "name": "python",
   "nbconvert_exporter": "python",
   "pygments_lexer": "ipython3",
   "version": "3.9.13"
  },
  "orig_nbformat": 4,
  "vscode": {
   "interpreter": {
    "hash": "71a3468136264f0b0d7556c549f6bb0813fce7ff26312333e72b8f960e346fd3"
   }
  }
 },
 "nbformat": 4,
 "nbformat_minor": 2
}
